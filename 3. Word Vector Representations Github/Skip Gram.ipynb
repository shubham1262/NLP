{
 "cells": [
  {
   "cell_type": "code",
   "execution_count": 1,
   "metadata": {},
   "outputs": [],
   "source": [
    "import torch\n",
    "torch.manual_seed(10)\n",
    "from torch.autograd import Variable\n",
    "from torch.utils.data import DataLoader\n",
    "import pandas as pd\n",
    "import numpy as np\n",
    "from sklearn import decomposition\n",
    "from pathlib import Path\n",
    "import warnings\n",
    "warnings.filterwarnings(\"ignore\")\n",
    "import seaborn as sns\n",
    "from matplotlib import pyplot as plt\n",
    "plt.rcParams['figure.figsize'] = (10,8)\n",
    "import nltk # nltk.download('punkt')\n",
    "#Import stopwords\n",
    "from nltk.corpus import stopwords"
   ]
  },
  {
   "cell_type": "code",
   "execution_count": 2,
   "metadata": {},
   "outputs": [],
   "source": [
    "## Consider a corpus like this\n",
    "corpus = [\n",
    "    'drink milk',\n",
    "    'drink cold water',\n",
    "    'drink cold cola',\n",
    "    'drink juice',\n",
    "    'drink cola',\n",
    "    'eat bacon',\n",
    "    'eat mango',\n",
    "    'eat cherry',\n",
    "    'eat apple',\n",
    "    'juice with sugar',\n",
    "    'cola with sugar',\n",
    "    'mango is fruit',\n",
    "    'apple is fruit',\n",
    "    'cherry is fruit',\n",
    "    'Berlin is Germany',\n",
    "    'Boston is USA',\n",
    "    'Mercedes from Germany',\n",
    "    'Mercedes is a car',\n",
    "    'Ford from USA',\n",
    "    'Ford is a car'\n",
    "]"
   ]
  },
  {
   "cell_type": "code",
   "execution_count": 15,
   "metadata": {},
   "outputs": [],
   "source": [
    "## Data Preprocessing\n",
    "def create_vocabulary(corpus):\n",
    "    '''Creates a dictionary with all unique words in corpus with id'''\n",
    "    vocabulary = {}\n",
    "    i = 0\n",
    "    for s in corpus:\n",
    "        for w in s.split():\n",
    "            if w not in vocabulary:\n",
    "                vocabulary[w] = i\n",
    "                i+=1\n",
    "    return vocabulary\n",
    "\n",
    "def prepare_set(corpus, n_gram = 1):\n",
    "    '''Creates a dataset with Input column and Outputs columns for neighboring words. \n",
    "       The number of neighbors = n_gram*2'''\n",
    "    columns = ['Input'] + [f'Output{i+1}' for i in range(n_gram*2)]\n",
    "    result = pd.DataFrame(columns = columns)\n",
    "    for sentence in corpus:\n",
    "        for i,w in enumerate(sentence.split()):\n",
    "            inp = [w]\n",
    "            out = []\n",
    "            for n in range(1,n_gram+1):\n",
    "                # look back\n",
    "                if (i-n)>=0:\n",
    "                    out.append(sentence.split()[i-n])\n",
    "                else:\n",
    "                    out.append('<padding>')\n",
    "                \n",
    "                # look forward\n",
    "                if (i+n)<len(sentence.split()):\n",
    "                    out.append(sentence.split()[i+n])\n",
    "                else:\n",
    "                    out.append('<padding>')\n",
    "            row = pd.DataFrame([inp+out], columns = columns)\n",
    "            result = pd.concat([result,row],axis=0)\n",
    "    return result\n",
    "\n",
    "def prepare_set_ravel(corpus, n_gram = 1):\n",
    "    '''Creates a dataset with Input column and Output column for neighboring words. \n",
    "       The number of neighbors = n_gram*2'''\n",
    "    columns = ['Input', 'Output']\n",
    "    result = pd.DataFrame(columns = columns)\n",
    "    for sentence in corpus:\n",
    "        for i,w in enumerate(sentence.split()):\n",
    "            inp = w\n",
    "            for n in range(1,n_gram+1):\n",
    "                # look back\n",
    "                if (i-n)>=0:\n",
    "                    out = sentence.split()[i-n]\n",
    "                    row = pd.DataFrame([[inp,out]], columns = columns)\n",
    "                    result = pd.concat([result,row],axis=0)\n",
    "                \n",
    "                # look forward\n",
    "                if (i+n)<len(sentence.split()):\n",
    "                    out = sentence.split()[i+n]\n",
    "                    row = pd.DataFrame([[inp,out]], columns = columns)\n",
    "                    result = pd.concat([result,row],axis=0)\n",
    "    return result"
   ]
  },
  {
   "cell_type": "code",
   "execution_count": 8,
   "metadata": {},
   "outputs": [
    {
     "data": {
      "text/plain": [
       "['drink milk',\n",
       " 'drink cold water',\n",
       " 'drink cold cola',\n",
       " 'drink juice',\n",
       " 'drink cola',\n",
       " 'eat bacon',\n",
       " 'eat mango',\n",
       " 'eat cherry',\n",
       " 'eat apple',\n",
       " 'juice sugar',\n",
       " 'cola sugar',\n",
       " 'mango fruit',\n",
       " 'apple fruit',\n",
       " 'cherry fruit',\n",
       " 'berlin germany',\n",
       " 'boston usa',\n",
       " 'mercedes germany',\n",
       " 'mercedes car',\n",
       " 'ford usa',\n",
       " 'ford car']"
      ]
     },
     "execution_count": 8,
     "metadata": {},
     "output_type": "execute_result"
    }
   ],
   "source": [
    "stop_words = set(stopwords.words('english'))\n",
    "\n",
    "# Download from nltk library the required file - given in import libraries\n",
    "\n",
    "def preprocess(corpus):\n",
    "    result = []\n",
    "    for i in corpus:\n",
    "        out = nltk.word_tokenize(i)\n",
    "        out = [x.lower() for x in out]\n",
    "        out = [x for x in out if x not in stop_words]\n",
    "        result.append(\" \". join(out))\n",
    "    return result\n",
    "\n",
    "corpus = preprocess(corpus)\n",
    "corpus"
   ]
  },
  {
   "cell_type": "code",
   "execution_count": 9,
   "metadata": {},
   "outputs": [
    {
     "data": {
      "text/plain": [
       "{'drink': 0,\n",
       " 'milk': 1,\n",
       " 'cold': 2,\n",
       " 'water': 3,\n",
       " 'cola': 4,\n",
       " 'juice': 5,\n",
       " 'eat': 6,\n",
       " 'bacon': 7,\n",
       " 'mango': 8,\n",
       " 'cherry': 9,\n",
       " 'apple': 10,\n",
       " 'sugar': 11,\n",
       " 'fruit': 12,\n",
       " 'berlin': 13,\n",
       " 'germany': 14,\n",
       " 'boston': 15,\n",
       " 'usa': 16,\n",
       " 'mercedes': 17,\n",
       " 'car': 18,\n",
       " 'ford': 19}"
      ]
     },
     "execution_count": 9,
     "metadata": {},
     "output_type": "execute_result"
    }
   ],
   "source": [
    "vocabulary = create_vocabulary(corpus)\n",
    "vocabulary"
   ]
  },
  {
   "cell_type": "code",
   "execution_count": 16,
   "metadata": {},
   "outputs": [
    {
     "data": {
      "text/html": [
       "<div>\n",
       "<style scoped>\n",
       "    .dataframe tbody tr th:only-of-type {\n",
       "        vertical-align: middle;\n",
       "    }\n",
       "\n",
       "    .dataframe tbody tr th {\n",
       "        vertical-align: top;\n",
       "    }\n",
       "\n",
       "    .dataframe thead th {\n",
       "        text-align: right;\n",
       "    }\n",
       "</style>\n",
       "<table border=\"1\" class=\"dataframe\">\n",
       "  <thead>\n",
       "    <tr style=\"text-align: right;\">\n",
       "      <th></th>\n",
       "      <th>Input</th>\n",
       "      <th>Output1</th>\n",
       "      <th>Output2</th>\n",
       "      <th>Output3</th>\n",
       "      <th>Output4</th>\n",
       "    </tr>\n",
       "  </thead>\n",
       "  <tbody>\n",
       "    <tr>\n",
       "      <th>0</th>\n",
       "      <td>drink</td>\n",
       "      <td>&lt;padding&gt;</td>\n",
       "      <td>milk</td>\n",
       "      <td>&lt;padding&gt;</td>\n",
       "      <td>&lt;padding&gt;</td>\n",
       "    </tr>\n",
       "    <tr>\n",
       "      <th>0</th>\n",
       "      <td>milk</td>\n",
       "      <td>drink</td>\n",
       "      <td>&lt;padding&gt;</td>\n",
       "      <td>&lt;padding&gt;</td>\n",
       "      <td>&lt;padding&gt;</td>\n",
       "    </tr>\n",
       "    <tr>\n",
       "      <th>0</th>\n",
       "      <td>drink</td>\n",
       "      <td>&lt;padding&gt;</td>\n",
       "      <td>cold</td>\n",
       "      <td>&lt;padding&gt;</td>\n",
       "      <td>water</td>\n",
       "    </tr>\n",
       "    <tr>\n",
       "      <th>0</th>\n",
       "      <td>cold</td>\n",
       "      <td>drink</td>\n",
       "      <td>water</td>\n",
       "      <td>&lt;padding&gt;</td>\n",
       "      <td>&lt;padding&gt;</td>\n",
       "    </tr>\n",
       "    <tr>\n",
       "      <th>0</th>\n",
       "      <td>water</td>\n",
       "      <td>cold</td>\n",
       "      <td>&lt;padding&gt;</td>\n",
       "      <td>drink</td>\n",
       "      <td>&lt;padding&gt;</td>\n",
       "    </tr>\n",
       "  </tbody>\n",
       "</table>\n",
       "</div>"
      ],
      "text/plain": [
       "   Input    Output1    Output2    Output3    Output4\n",
       "0  drink  <padding>       milk  <padding>  <padding>\n",
       "0   milk      drink  <padding>  <padding>  <padding>\n",
       "0  drink  <padding>       cold  <padding>      water\n",
       "0   cold      drink      water  <padding>  <padding>\n",
       "0  water       cold  <padding>      drink  <padding>"
      ]
     },
     "execution_count": 16,
     "metadata": {},
     "output_type": "execute_result"
    }
   ],
   "source": [
    "train_emb = prepare_set(corpus, n_gram = 2)\n",
    "train_emb.head()"
   ]
  },
  {
   "cell_type": "code",
   "execution_count": 17,
   "metadata": {},
   "outputs": [
    {
     "data": {
      "text/html": [
       "<div>\n",
       "<style scoped>\n",
       "    .dataframe tbody tr th:only-of-type {\n",
       "        vertical-align: middle;\n",
       "    }\n",
       "\n",
       "    .dataframe tbody tr th {\n",
       "        vertical-align: top;\n",
       "    }\n",
       "\n",
       "    .dataframe thead th {\n",
       "        text-align: right;\n",
       "    }\n",
       "</style>\n",
       "<table border=\"1\" class=\"dataframe\">\n",
       "  <thead>\n",
       "    <tr style=\"text-align: right;\">\n",
       "      <th></th>\n",
       "      <th>Input</th>\n",
       "      <th>Output</th>\n",
       "    </tr>\n",
       "  </thead>\n",
       "  <tbody>\n",
       "    <tr>\n",
       "      <th>0</th>\n",
       "      <td>drink</td>\n",
       "      <td>milk</td>\n",
       "    </tr>\n",
       "    <tr>\n",
       "      <th>0</th>\n",
       "      <td>milk</td>\n",
       "      <td>drink</td>\n",
       "    </tr>\n",
       "    <tr>\n",
       "      <th>0</th>\n",
       "      <td>drink</td>\n",
       "      <td>cold</td>\n",
       "    </tr>\n",
       "    <tr>\n",
       "      <th>0</th>\n",
       "      <td>drink</td>\n",
       "      <td>water</td>\n",
       "    </tr>\n",
       "    <tr>\n",
       "      <th>0</th>\n",
       "      <td>cold</td>\n",
       "      <td>drink</td>\n",
       "    </tr>\n",
       "  </tbody>\n",
       "</table>\n",
       "</div>"
      ],
      "text/plain": [
       "   Input Output\n",
       "0  drink   milk\n",
       "0   milk  drink\n",
       "0  drink   cold\n",
       "0  drink  water\n",
       "0   cold  drink"
      ]
     },
     "execution_count": 17,
     "metadata": {},
     "output_type": "execute_result"
    }
   ],
   "source": [
    "train_emb = prepare_set_ravel(corpus, n_gram = 2)\n",
    "train_emb.head()"
   ]
  },
  {
   "cell_type": "code",
   "execution_count": 18,
   "metadata": {},
   "outputs": [
    {
     "data": {
      "text/html": [
       "<div>\n",
       "<style scoped>\n",
       "    .dataframe tbody tr th:only-of-type {\n",
       "        vertical-align: middle;\n",
       "    }\n",
       "\n",
       "    .dataframe tbody tr th {\n",
       "        vertical-align: top;\n",
       "    }\n",
       "\n",
       "    .dataframe thead th {\n",
       "        text-align: right;\n",
       "    }\n",
       "</style>\n",
       "<table border=\"1\" class=\"dataframe\">\n",
       "  <thead>\n",
       "    <tr style=\"text-align: right;\">\n",
       "      <th></th>\n",
       "      <th>Input</th>\n",
       "      <th>Output</th>\n",
       "    </tr>\n",
       "  </thead>\n",
       "  <tbody>\n",
       "    <tr>\n",
       "      <th>0</th>\n",
       "      <td>0</td>\n",
       "      <td>1</td>\n",
       "    </tr>\n",
       "    <tr>\n",
       "      <th>0</th>\n",
       "      <td>1</td>\n",
       "      <td>0</td>\n",
       "    </tr>\n",
       "    <tr>\n",
       "      <th>0</th>\n",
       "      <td>0</td>\n",
       "      <td>2</td>\n",
       "    </tr>\n",
       "    <tr>\n",
       "      <th>0</th>\n",
       "      <td>0</td>\n",
       "      <td>3</td>\n",
       "    </tr>\n",
       "    <tr>\n",
       "      <th>0</th>\n",
       "      <td>2</td>\n",
       "      <td>0</td>\n",
       "    </tr>\n",
       "  </tbody>\n",
       "</table>\n",
       "</div>"
      ],
      "text/plain": [
       "   Input  Output\n",
       "0      0       1\n",
       "0      1       0\n",
       "0      0       2\n",
       "0      0       3\n",
       "0      2       0"
      ]
     },
     "execution_count": 18,
     "metadata": {},
     "output_type": "execute_result"
    }
   ],
   "source": [
    "train_emb.Input = train_emb.Input.map(vocabulary)\n",
    "train_emb.Output = train_emb.Output.map(vocabulary)\n",
    "train_emb.head()"
   ]
  },
  {
   "cell_type": "code",
   "execution_count": 19,
   "metadata": {},
   "outputs": [],
   "source": [
    "vocab_size = len(vocabulary)\n",
    "\n",
    "def get_input_tensor(tensor):\n",
    "    '''Transform 1D tensor of word indexes to one-hot encoded 2D tensor'''\n",
    "    size = [*tensor.shape][0]\n",
    "    inp = torch.zeros(size, vocab_size).scatter_(1, tensor.unsqueeze(1), 1.)\n",
    "    return Variable(inp).float()"
   ]
  },
  {
   "cell_type": "code",
   "execution_count": 20,
   "metadata": {},
   "outputs": [],
   "source": [
    "embedding_dims = 5\n",
    "device = torch.device('cpu')"
   ]
  },
  {
   "cell_type": "code",
   "execution_count": 21,
   "metadata": {},
   "outputs": [
    {
     "name": "stdout",
     "output_type": "stream",
     "text": [
      "W1 shape is: torch.Size([20, 5]), W2 shape is: torch.Size([5, 20])\n"
     ]
    }
   ],
   "source": [
    "initrange = 0.5 / embedding_dims\n",
    "W1 = Variable(torch.randn(vocab_size, embedding_dims, device=device).uniform_(-initrange, initrange).float(), requires_grad=True) # shape V*H\n",
    "W2 = Variable(torch.randn(embedding_dims, vocab_size, device=device).uniform_(-initrange, initrange).float(), requires_grad=True) #shape H*V\n",
    "print(f'W1 shape is: {W1.shape}, W2 shape is: {W2.shape}')"
   ]
  },
  {
   "cell_type": "code",
   "execution_count": 22,
   "metadata": {},
   "outputs": [],
   "source": [
    "num_epochs = 2000\n",
    "learning_rate = 2e-1\n",
    "lr_decay = 0.99\n",
    "loss_hist = []"
   ]
  },
  {
   "cell_type": "code",
   "execution_count": 23,
   "metadata": {},
   "outputs": [
    {
     "name": "stdout",
     "output_type": "stream",
     "text": [
      "Epoch 0, loss = 2.998577833175659\n",
      "Epoch 50, loss = 2.625443696975708\n",
      "Epoch 100, loss = 1.2810331583023071\n",
      "Epoch 150, loss = 1.0042035579681396\n",
      "Epoch 200, loss = 0.9315589070320129\n",
      "Epoch 250, loss = 1.0800772905349731\n",
      "Epoch 300, loss = 1.3391231298446655\n",
      "Epoch 350, loss = 1.0540748834609985\n",
      "Epoch 400, loss = 1.5374940633773804\n",
      "Epoch 450, loss = 1.3225044012069702\n",
      "Epoch 500, loss = 1.1197007894515991\n",
      "Epoch 550, loss = 1.1503740549087524\n",
      "Epoch 600, loss = 1.3379549980163574\n",
      "Epoch 650, loss = 1.3130196332931519\n",
      "Epoch 700, loss = 1.4010224342346191\n",
      "Epoch 750, loss = 1.1631858348846436\n",
      "Epoch 800, loss = 1.1985926628112793\n",
      "Epoch 850, loss = 1.2639422416687012\n",
      "Epoch 900, loss = 1.1020801067352295\n",
      "Epoch 950, loss = 1.062979817390442\n",
      "Epoch 1000, loss = 1.0206540822982788\n",
      "Epoch 1050, loss = 1.003631830215454\n",
      "Epoch 1100, loss = 0.9823724627494812\n",
      "Epoch 1150, loss = 0.9604396820068359\n",
      "Epoch 1200, loss = 0.9419291615486145\n",
      "Epoch 1250, loss = 0.9268764853477478\n",
      "Epoch 1300, loss = 0.920346200466156\n",
      "Epoch 1350, loss = 0.9180168509483337\n",
      "Epoch 1400, loss = 0.9171001315116882\n",
      "Epoch 1450, loss = 0.9159104228019714\n",
      "Epoch 1500, loss = 0.9144554734230042\n",
      "Epoch 1550, loss = 0.9127939343452454\n",
      "Epoch 1600, loss = 0.9109735488891602\n",
      "Epoch 1650, loss = 0.9090316891670227\n",
      "Epoch 1700, loss = 0.907004177570343\n",
      "Epoch 1750, loss = 0.9049401879310608\n",
      "Epoch 1800, loss = 0.902975857257843\n",
      "Epoch 1850, loss = 0.9017171263694763\n",
      "Epoch 1900, loss = 0.9016086459159851\n",
      "Epoch 1950, loss = 0.9016334414482117\n",
      "CPU times: user 390 ms, sys: 219 ms, total: 609 ms\n",
      "Wall time: 444 ms\n"
     ]
    }
   ],
   "source": [
    "%%time\n",
    "for epo in range(num_epochs):\n",
    "    for x,y in zip(DataLoader(train_emb.Input.values, batch_size=train_emb.shape[0]), DataLoader(train_emb.Output.values, batch_size=train_emb.shape[0])):\n",
    "        \n",
    "        # one-hot encode input tensor\n",
    "        input_tensor = get_input_tensor(x) #shape N*V\n",
    "     \n",
    "        # simple NN architecture\n",
    "        h = input_tensor.mm(W1) # shape 1*H\n",
    "        y_pred = h.mm(W2) # shape 1*V\n",
    "        \n",
    "        # define loss func\n",
    "        loss_f = torch.nn.CrossEntropyLoss() # see details: https://pytorch.org/docs/stable/nn.html\n",
    "        \n",
    "        #compute loss\n",
    "        loss = loss_f(y_pred, y)\n",
    "        \n",
    "        # bakpropagation step\n",
    "        loss.backward()\n",
    "        \n",
    "        # Update weights using gradient descent. For this step we just want to mutate\n",
    "        # the values of w1 and w2 in-place; we don't want to build up a computational\n",
    "        # graph for the update steps, so we use the torch.no_grad() context manager\n",
    "        # to prevent PyTorch from building a computational graph for the updates\n",
    "        with torch.no_grad():\n",
    "            # SGD optimization is implemented in PyTorch, but it's very easy to implement manually providing better understanding of process\n",
    "            W1 -= learning_rate*W1.grad.data\n",
    "            W2 -= learning_rate*W2.grad.data\n",
    "            # zero gradients for next step\n",
    "            W1.grad.data.zero_()\n",
    "            W1.grad.data.zero_()\n",
    "    if epo%10 == 0:\n",
    "        learning_rate *= lr_decay\n",
    "    loss_hist.append(loss)\n",
    "    if epo%50 == 0:\n",
    "        print(f'Epoch {epo}, loss = {loss}')\n",
    "    "
   ]
  },
  {
   "cell_type": "code",
   "execution_count": 24,
   "metadata": {},
   "outputs": [],
   "source": [
    "W1 = W1.detach().numpy()\n",
    "W2 = W2.T.detach().numpy()"
   ]
  },
  {
   "cell_type": "code",
   "execution_count": 29,
   "metadata": {},
   "outputs": [
    {
     "data": {
      "image/png": "[encoded data removed]",
      "text/plain": [
       "<Figure size 1000x800 with 1 Axes>"
      ]
     },
     "metadata": {},
     "output_type": "display_data"
    }
   ],
   "source": [
    "svd = decomposition.TruncatedSVD(n_components=2)\n",
    "W1_dec = svd.fit_transform(W1)\n",
    "x = W1_dec[:,0]\n",
    "y = W1_dec[:,1]\n",
    "plot = sns.scatterplot(x)\n",
    "\n",
    "for i in range(0,W1_dec.shape[0]):\n",
    "     plot.text(x[i], y[i]+2e-2, list(vocabulary.keys())[i], horizontalalignment='center', size='small', color='black', weight='semibold');"
   ]
  },
  {
   "cell_type": "code",
   "execution_count": null,
   "metadata": {},
   "outputs": [],
   "source": []
  }
 ],
 "metadata": {
  "kernelspec": {
   "display_name": "pytorch",
   "language": "python",
   "name": "python3"
  },
  "language_info": {
   "codemirror_mode": {
    "name": "ipython",
    "version": 3
   },
   "file_extension": ".py",
   "mimetype": "text/x-python",
   "name": "python",
   "nbconvert_exporter": "python",
   "pygments_lexer": "ipython3",
   "version": "3.11.3"
  },
  "orig_nbformat": 4
 },
 "nbformat": 4,
 "nbformat_minor": 2
}
