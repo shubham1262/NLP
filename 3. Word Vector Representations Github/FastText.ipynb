{
 "cells": [
  {
   "cell_type": "code",
   "execution_count": 1,
   "metadata": {},
   "outputs": [],
   "source": [
    "import fasttext"
   ]
  },
  {
   "cell_type": "code",
   "execution_count": 2,
   "metadata": {},
   "outputs": [
    {
     "name": "stdout",
     "output_type": "stream",
     "text": [
      "(5938, 9)\n"
     ]
    },
    {
     "data": {
      "text/html": [
       "<div>\n",
       "<style scoped>\n",
       "    .dataframe tbody tr th:only-of-type {\n",
       "        vertical-align: middle;\n",
       "    }\n",
       "\n",
       "    .dataframe tbody tr th {\n",
       "        vertical-align: top;\n",
       "    }\n",
       "\n",
       "    .dataframe thead th {\n",
       "        text-align: right;\n",
       "    }\n",
       "</style>\n",
       "<table border=\"1\" class=\"dataframe\">\n",
       "  <thead>\n",
       "    <tr style=\"text-align: right;\">\n",
       "      <th></th>\n",
       "      <th>TranslatedRecipeName</th>\n",
       "      <th>TranslatedIngredients</th>\n",
       "      <th>TotalTimeInMins</th>\n",
       "      <th>Cuisine</th>\n",
       "      <th>TranslatedInstructions</th>\n",
       "      <th>URL</th>\n",
       "      <th>Cleaned-Ingredients</th>\n",
       "      <th>image-url</th>\n",
       "      <th>Ingredient-count</th>\n",
       "    </tr>\n",
       "  </thead>\n",
       "  <tbody>\n",
       "    <tr>\n",
       "      <th>0</th>\n",
       "      <td>Masala Karela Recipe</td>\n",
       "      <td>1 tablespoon Red Chilli powder,3 tablespoon Gr...</td>\n",
       "      <td>45</td>\n",
       "      <td>Indian</td>\n",
       "      <td>To begin making the Masala Karela Recipe,de-se...</td>\n",
       "      <td>https://www.archanaskitchen.com/masala-karela-...</td>\n",
       "      <td>salt,amchur (dry mango powder),karela (bitter ...</td>\n",
       "      <td>https://www.archanaskitchen.com/images/archana...</td>\n",
       "      <td>10</td>\n",
       "    </tr>\n",
       "    <tr>\n",
       "      <th>1</th>\n",
       "      <td>Spicy Tomato Rice (Recipe)</td>\n",
       "      <td>2 teaspoon cashew - or peanuts, 1/2 Teaspoon ...</td>\n",
       "      <td>15</td>\n",
       "      <td>South Indian Recipes</td>\n",
       "      <td>To make tomato puliogere, first cut the tomato...</td>\n",
       "      <td>https://www.archanaskitchen.com/spicy-tomato-r...</td>\n",
       "      <td>tomato,salt,chickpea lentils,green chilli,rice...</td>\n",
       "      <td>https://www.archanaskitchen.com/images/archana...</td>\n",
       "      <td>12</td>\n",
       "    </tr>\n",
       "    <tr>\n",
       "      <th>2</th>\n",
       "      <td>Ragi Semiya Upma Recipe - Ragi Millet Vermicel...</td>\n",
       "      <td>1 Onion - sliced,1 teaspoon White Urad Dal (Sp...</td>\n",
       "      <td>50</td>\n",
       "      <td>South Indian Recipes</td>\n",
       "      <td>To begin making the Ragi Vermicelli Recipe, fi...</td>\n",
       "      <td>https://www.archanaskitchen.com/ragi-vermicell...</td>\n",
       "      <td>salt,rice vermicelli noodles (thin),asafoetida...</td>\n",
       "      <td>https://www.archanaskitchen.com/images/archana...</td>\n",
       "      <td>12</td>\n",
       "    </tr>\n",
       "  </tbody>\n",
       "</table>\n",
       "</div>"
      ],
      "text/plain": [
       "                                TranslatedRecipeName   \n",
       "0                               Masala Karela Recipe  \\\n",
       "1                         Spicy Tomato Rice (Recipe)   \n",
       "2  Ragi Semiya Upma Recipe - Ragi Millet Vermicel...   \n",
       "\n",
       "                               TranslatedIngredients  TotalTimeInMins   \n",
       "0  1 tablespoon Red Chilli powder,3 tablespoon Gr...               45  \\\n",
       "1   2 teaspoon cashew - or peanuts, 1/2 Teaspoon ...               15   \n",
       "2  1 Onion - sliced,1 teaspoon White Urad Dal (Sp...               50   \n",
       "\n",
       "                Cuisine                             TranslatedInstructions   \n",
       "0                Indian  To begin making the Masala Karela Recipe,de-se...  \\\n",
       "1  South Indian Recipes  To make tomato puliogere, first cut the tomato...   \n",
       "2  South Indian Recipes  To begin making the Ragi Vermicelli Recipe, fi...   \n",
       "\n",
       "                                                 URL   \n",
       "0  https://www.archanaskitchen.com/masala-karela-...  \\\n",
       "1  https://www.archanaskitchen.com/spicy-tomato-r...   \n",
       "2  https://www.archanaskitchen.com/ragi-vermicell...   \n",
       "\n",
       "                                 Cleaned-Ingredients   \n",
       "0  salt,amchur (dry mango powder),karela (bitter ...  \\\n",
       "1  tomato,salt,chickpea lentils,green chilli,rice...   \n",
       "2  salt,rice vermicelli noodles (thin),asafoetida...   \n",
       "\n",
       "                                           image-url  Ingredient-count  \n",
       "0  https://www.archanaskitchen.com/images/archana...                10  \n",
       "1  https://www.archanaskitchen.com/images/archana...                12  \n",
       "2  https://www.archanaskitchen.com/images/archana...                12  "
      ]
     },
     "execution_count": 2,
     "metadata": {},
     "output_type": "execute_result"
    }
   ],
   "source": [
    "import pandas as pd\n",
    "\n",
    "df = pd.read_csv(\"Cleaned_Indian_Food_Dataset.csv\")\n",
    "print(df.shape)\n",
    "df.head(3)"
   ]
  },
  {
   "cell_type": "code",
   "execution_count": 3,
   "metadata": {},
   "outputs": [
    {
     "data": {
      "text/plain": [
       "'To begin making the Masala Karela Recipe de seed the karela and slice \\nDo not remove the skin as the skin has all the nutrients \\nAdd the karela to the pressure cooker with 3 tablespoon of water  salt and turmeric powder and pressure cook for three whistles \\nRelease the pressure immediately and open the lids \\nKeep aside Heat oil in a heavy bottomed pan or a kadhai \\nAdd cumin seeds and let it sizzle Once the cumin seeds have sizzled  add onions and saute them till it turns golden brown in color Add the karela  red chilli powder  amchur powder  coriander powder and besan \\nStir to combine the masalas into the karela Drizzle a little extra oil on the top and mix again \\nCover the pan and simmer Masala Karela stirring occasionally until everything comes together well \\nTurn off the heat Transfer Masala Karela into a serving bowl and serve Serve Masala Karela along with Panchmel Dal and Phulka for a weekday meal with your family \\n'"
      ]
     },
     "execution_count": 3,
     "metadata": {},
     "output_type": "execute_result"
    }
   ],
   "source": [
    "import re\n",
    "\n",
    "text = 'To begin making the Masala Karela Recipe,de-seed the karela and slice.\\nDo not remove the skin as the skin has all the nutrients.\\nAdd the karela to the pressure cooker with 3 tablespoon of water, salt and turmeric powder and pressure cook for three whistles.\\nRelease the pressure immediately and open the lids.\\nKeep aside.Heat oil in a heavy bottomed pan or a kadhai.\\nAdd cumin seeds and let it sizzle.Once the cumin seeds have sizzled, add onions and saute them till it turns golden brown in color.Add the karela, red chilli powder, amchur powder, coriander powder and besan.\\nStir to combine the masalas into the karela.Drizzle a little extra oil on the top and mix again.\\nCover the pan and simmer Masala Karela stirring occasionally until everything comes together well.\\nTurn off the heat.Transfer Masala Karela into a serving bowl and serve.Serve Masala Karela along with Panchmel Dal and Phulka for a weekday meal with your family.\\n'\n",
    "\n",
    "re.sub(r\"[^\\w\\s]\", \" \", text, flags=re.MULTILINE)"
   ]
  },
  {
   "cell_type": "code",
   "execution_count": 4,
   "metadata": {},
   "outputs": [],
   "source": [
    "def preprocess(text):\n",
    "    text = re.sub(r'[^\\w\\s\\']',' ', text)\n",
    "    text = re.sub(r'[ \\n]+', ' ', text)\n",
    "    return text.strip().lower() "
   ]
  },
  {
   "cell_type": "code",
   "execution_count": 5,
   "metadata": {},
   "outputs": [
    {
     "data": {
      "text/plain": [
       "'to begin making the masala karela recipe de seed the karela and slice do not remove the skin as the skin has all the nutrients add the karela to the pressure cooker with 3 tablespoon of water salt and turmeric powder and pressure cook for three whistles release the pressure immediately and open the lids keep aside heat oil in a heavy bottomed pan or a kadhai add cumin seeds and let it sizzle once the cumin seeds have sizzled add onions and saute them till it turns golden brown in color add the karela red chilli powder amchur powder coriander powder and besan stir to combine the masalas into the karela drizzle a little extra oil on the top and mix again cover the pan and simmer masala karela stirring occasionally until everything comes together well turn off the heat transfer masala karela into a serving bowl and serve serve masala karela along with panchmel dal and phulka for a weekday meal with your family'"
      ]
     },
     "execution_count": 5,
     "metadata": {},
     "output_type": "execute_result"
    }
   ],
   "source": [
    "text = 'To begin making the Masala Karela Recipe,de-seed the karela and slice.\\nDo not remove the skin as the skin has all the nutrients.\\nAdd the karela to the pressure cooker with 3 tablespoon of water, salt and turmeric powder and pressure cook for three whistles.\\nRelease the pressure immediately and open the lids.\\nKeep aside.Heat oil in a heavy bottomed pan or a kadhai.\\nAdd cumin seeds and let it sizzle.Once the cumin seeds have sizzled, add onions and saute them till it turns golden brown in color.Add the karela, red chilli powder, amchur powder, coriander powder and besan.\\nStir to combine the masalas into the karela.Drizzle a little extra oil on the top and mix again.\\nCover the pan and simmer Masala Karela stirring occasionally until everything comes together well.\\nTurn off the heat.Transfer Masala Karela into a serving bowl and serve.Serve Masala Karela along with Panchmel Dal and Phulka for a weekday meal with your family.\\n'\n",
    "\n",
    "preprocess(text)"
   ]
  },
  {
   "cell_type": "code",
   "execution_count": 6,
   "metadata": {},
   "outputs": [],
   "source": [
    "df.TranslatedInstructions = df.TranslatedInstructions.map(preprocess)"
   ]
  },
  {
   "cell_type": "code",
   "execution_count": 7,
   "metadata": {},
   "outputs": [
    {
     "data": {
      "text/html": [
       "<div>\n",
       "<style scoped>\n",
       "    .dataframe tbody tr th:only-of-type {\n",
       "        vertical-align: middle;\n",
       "    }\n",
       "\n",
       "    .dataframe tbody tr th {\n",
       "        vertical-align: top;\n",
       "    }\n",
       "\n",
       "    .dataframe thead th {\n",
       "        text-align: right;\n",
       "    }\n",
       "</style>\n",
       "<table border=\"1\" class=\"dataframe\">\n",
       "  <thead>\n",
       "    <tr style=\"text-align: right;\">\n",
       "      <th></th>\n",
       "      <th>TranslatedRecipeName</th>\n",
       "      <th>TranslatedIngredients</th>\n",
       "      <th>TotalTimeInMins</th>\n",
       "      <th>Cuisine</th>\n",
       "      <th>TranslatedInstructions</th>\n",
       "      <th>URL</th>\n",
       "      <th>Cleaned-Ingredients</th>\n",
       "      <th>image-url</th>\n",
       "      <th>Ingredient-count</th>\n",
       "    </tr>\n",
       "  </thead>\n",
       "  <tbody>\n",
       "    <tr>\n",
       "      <th>0</th>\n",
       "      <td>Masala Karela Recipe</td>\n",
       "      <td>1 tablespoon Red Chilli powder,3 tablespoon Gr...</td>\n",
       "      <td>45</td>\n",
       "      <td>Indian</td>\n",
       "      <td>to begin making the masala karela recipe de se...</td>\n",
       "      <td>https://www.archanaskitchen.com/masala-karela-...</td>\n",
       "      <td>salt,amchur (dry mango powder),karela (bitter ...</td>\n",
       "      <td>https://www.archanaskitchen.com/images/archana...</td>\n",
       "      <td>10</td>\n",
       "    </tr>\n",
       "    <tr>\n",
       "      <th>1</th>\n",
       "      <td>Spicy Tomato Rice (Recipe)</td>\n",
       "      <td>2 teaspoon cashew - or peanuts, 1/2 Teaspoon ...</td>\n",
       "      <td>15</td>\n",
       "      <td>South Indian Recipes</td>\n",
       "      <td>to make tomato puliogere first cut the tomatoe...</td>\n",
       "      <td>https://www.archanaskitchen.com/spicy-tomato-r...</td>\n",
       "      <td>tomato,salt,chickpea lentils,green chilli,rice...</td>\n",
       "      <td>https://www.archanaskitchen.com/images/archana...</td>\n",
       "      <td>12</td>\n",
       "    </tr>\n",
       "    <tr>\n",
       "      <th>2</th>\n",
       "      <td>Ragi Semiya Upma Recipe - Ragi Millet Vermicel...</td>\n",
       "      <td>1 Onion - sliced,1 teaspoon White Urad Dal (Sp...</td>\n",
       "      <td>50</td>\n",
       "      <td>South Indian Recipes</td>\n",
       "      <td>to begin making the ragi vermicelli recipe fir...</td>\n",
       "      <td>https://www.archanaskitchen.com/ragi-vermicell...</td>\n",
       "      <td>salt,rice vermicelli noodles (thin),asafoetida...</td>\n",
       "      <td>https://www.archanaskitchen.com/images/archana...</td>\n",
       "      <td>12</td>\n",
       "    </tr>\n",
       "    <tr>\n",
       "      <th>3</th>\n",
       "      <td>Gongura Chicken Curry Recipe - Andhra Style Go...</td>\n",
       "      <td>1/2 teaspoon Turmeric powder (Haldi),1 tablesp...</td>\n",
       "      <td>45</td>\n",
       "      <td>Andhra</td>\n",
       "      <td>to begin making gongura chicken curry recipe f...</td>\n",
       "      <td>https://www.archanaskitchen.com/gongura-chicke...</td>\n",
       "      <td>tomato,salt,ginger,sorrel leaves (gongura),fen...</td>\n",
       "      <td>https://www.archanaskitchen.com/images/archana...</td>\n",
       "      <td>15</td>\n",
       "    </tr>\n",
       "    <tr>\n",
       "      <th>4</th>\n",
       "      <td>Andhra Style Alam Pachadi Recipe - Adrak Chutn...</td>\n",
       "      <td>oil - as per use, 1 tablespoon coriander seed...</td>\n",
       "      <td>30</td>\n",
       "      <td>Andhra</td>\n",
       "      <td>to make andhra style alam pachadi first heat o...</td>\n",
       "      <td>https://www.archanaskitchen.com/andhra-style-a...</td>\n",
       "      <td>tomato,salt,ginger,red chillies,curry,asafoeti...</td>\n",
       "      <td>https://www.archanaskitchen.com/images/archana...</td>\n",
       "      <td>12</td>\n",
       "    </tr>\n",
       "    <tr>\n",
       "      <th>...</th>\n",
       "      <td>...</td>\n",
       "      <td>...</td>\n",
       "      <td>...</td>\n",
       "      <td>...</td>\n",
       "      <td>...</td>\n",
       "      <td>...</td>\n",
       "      <td>...</td>\n",
       "      <td>...</td>\n",
       "      <td>...</td>\n",
       "    </tr>\n",
       "    <tr>\n",
       "      <th>5933</th>\n",
       "      <td>Saffron Paneer Peda Recipe</td>\n",
       "      <td>2 teaspoons Rose water,1/2 teaspoon Ghee,2 cup...</td>\n",
       "      <td>20</td>\n",
       "      <td>Indian</td>\n",
       "      <td>to begin making the saffron paneer peda recipe...</td>\n",
       "      <td>https://www.archanaskitchen.com/saffron-paneer...</td>\n",
       "      <td>saffron strands generous,ghee,paneer,rose wate...</td>\n",
       "      <td>https://www.archanaskitchen.com/images/archana...</td>\n",
       "      <td>7</td>\n",
       "    </tr>\n",
       "    <tr>\n",
       "      <th>5934</th>\n",
       "      <td>Italian Arancini Rice Balls Recipe With Delici...</td>\n",
       "      <td>4 sprig Basil leaves - finely chopped,2 cups W...</td>\n",
       "      <td>100</td>\n",
       "      <td>Italian Recipes</td>\n",
       "      <td>to begin making the italian arancini rice ball...</td>\n",
       "      <td>https://www.archanaskitchen.com/italian-aranci...</td>\n",
       "      <td>salt,gorgonzola cheese cubes,wheat bread crumb...</td>\n",
       "      <td>https://www.archanaskitchen.com/images/archana...</td>\n",
       "      <td>14</td>\n",
       "    </tr>\n",
       "    <tr>\n",
       "      <th>5935</th>\n",
       "      <td>Quinoa Phirnee Recipe (Quinoa Milk Pudding)</td>\n",
       "      <td>3/4 cup Sugar,2 cup Milk - vegans can substitu...</td>\n",
       "      <td>35</td>\n",
       "      <td>Indian</td>\n",
       "      <td>to begin making quinoa phirnee recipe place a ...</td>\n",
       "      <td>https://www.archanaskitchen.com/quinoa-phirnee...</td>\n",
       "      <td>ghee,milk,saffron strands,sugar,cardamom powde...</td>\n",
       "      <td>https://www.archanaskitchen.com/images/archana...</td>\n",
       "      <td>8</td>\n",
       "    </tr>\n",
       "    <tr>\n",
       "      <th>5936</th>\n",
       "      <td>Ullikadala Pulusu Recipe | Spring Onion Curry</td>\n",
       "      <td>1 pinch Turmeric powder (Haldi),1/2 teaspoon M...</td>\n",
       "      <td>15</td>\n",
       "      <td>Andhra</td>\n",
       "      <td>to begin making ullikadala pulusu recipe sprin...</td>\n",
       "      <td>https://www.archanaskitchen.com/ullikadala-pul...</td>\n",
       "      <td>salt,tamarind water,mustard seeds,asafoetida (...</td>\n",
       "      <td>https://www.archanaskitchen.com/images/archana...</td>\n",
       "      <td>13</td>\n",
       "    </tr>\n",
       "    <tr>\n",
       "      <th>5937</th>\n",
       "      <td>Kashmiri Style Kokur Yakhni Recipe-Chicken Coo...</td>\n",
       "      <td>Salt - as required,3 to 4 Cloves (Laung),Ghee ...</td>\n",
       "      <td>75</td>\n",
       "      <td>Kashmiri</td>\n",
       "      <td>to begin making the kashmiri kokur yakhni reci...</td>\n",
       "      <td>https://www.archanaskitchen.com/kashmiri-kokur...</td>\n",
       "      <td>black cardamom (badi elaichi),salt,mustard oil...</td>\n",
       "      <td>https://www.archanaskitchen.com/images/archana...</td>\n",
       "      <td>13</td>\n",
       "    </tr>\n",
       "  </tbody>\n",
       "</table>\n",
       "<p>5938 rows × 9 columns</p>\n",
       "</div>"
      ],
      "text/plain": [
       "                                   TranslatedRecipeName   \n",
       "0                                  Masala Karela Recipe  \\\n",
       "1                            Spicy Tomato Rice (Recipe)   \n",
       "2     Ragi Semiya Upma Recipe - Ragi Millet Vermicel...   \n",
       "3     Gongura Chicken Curry Recipe - Andhra Style Go...   \n",
       "4     Andhra Style Alam Pachadi Recipe - Adrak Chutn...   \n",
       "...                                                 ...   \n",
       "5933                         Saffron Paneer Peda Recipe   \n",
       "5934  Italian Arancini Rice Balls Recipe With Delici...   \n",
       "5935        Quinoa Phirnee Recipe (Quinoa Milk Pudding)   \n",
       "5936      Ullikadala Pulusu Recipe | Spring Onion Curry   \n",
       "5937  Kashmiri Style Kokur Yakhni Recipe-Chicken Coo...   \n",
       "\n",
       "                                  TranslatedIngredients  TotalTimeInMins   \n",
       "0     1 tablespoon Red Chilli powder,3 tablespoon Gr...               45  \\\n",
       "1      2 teaspoon cashew - or peanuts, 1/2 Teaspoon ...               15   \n",
       "2     1 Onion - sliced,1 teaspoon White Urad Dal (Sp...               50   \n",
       "3     1/2 teaspoon Turmeric powder (Haldi),1 tablesp...               45   \n",
       "4      oil - as per use, 1 tablespoon coriander seed...               30   \n",
       "...                                                 ...              ...   \n",
       "5933  2 teaspoons Rose water,1/2 teaspoon Ghee,2 cup...               20   \n",
       "5934  4 sprig Basil leaves - finely chopped,2 cups W...              100   \n",
       "5935  3/4 cup Sugar,2 cup Milk - vegans can substitu...               35   \n",
       "5936  1 pinch Turmeric powder (Haldi),1/2 teaspoon M...               15   \n",
       "5937  Salt - as required,3 to 4 Cloves (Laung),Ghee ...               75   \n",
       "\n",
       "                   Cuisine                             TranslatedInstructions   \n",
       "0                   Indian  to begin making the masala karela recipe de se...  \\\n",
       "1     South Indian Recipes  to make tomato puliogere first cut the tomatoe...   \n",
       "2     South Indian Recipes  to begin making the ragi vermicelli recipe fir...   \n",
       "3                   Andhra  to begin making gongura chicken curry recipe f...   \n",
       "4                   Andhra  to make andhra style alam pachadi first heat o...   \n",
       "...                    ...                                                ...   \n",
       "5933                Indian  to begin making the saffron paneer peda recipe...   \n",
       "5934       Italian Recipes  to begin making the italian arancini rice ball...   \n",
       "5935                Indian  to begin making quinoa phirnee recipe place a ...   \n",
       "5936                Andhra  to begin making ullikadala pulusu recipe sprin...   \n",
       "5937              Kashmiri  to begin making the kashmiri kokur yakhni reci...   \n",
       "\n",
       "                                                    URL   \n",
       "0     https://www.archanaskitchen.com/masala-karela-...  \\\n",
       "1     https://www.archanaskitchen.com/spicy-tomato-r...   \n",
       "2     https://www.archanaskitchen.com/ragi-vermicell...   \n",
       "3     https://www.archanaskitchen.com/gongura-chicke...   \n",
       "4     https://www.archanaskitchen.com/andhra-style-a...   \n",
       "...                                                 ...   \n",
       "5933  https://www.archanaskitchen.com/saffron-paneer...   \n",
       "5934  https://www.archanaskitchen.com/italian-aranci...   \n",
       "5935  https://www.archanaskitchen.com/quinoa-phirnee...   \n",
       "5936  https://www.archanaskitchen.com/ullikadala-pul...   \n",
       "5937  https://www.archanaskitchen.com/kashmiri-kokur...   \n",
       "\n",
       "                                    Cleaned-Ingredients   \n",
       "0     salt,amchur (dry mango powder),karela (bitter ...  \\\n",
       "1     tomato,salt,chickpea lentils,green chilli,rice...   \n",
       "2     salt,rice vermicelli noodles (thin),asafoetida...   \n",
       "3     tomato,salt,ginger,sorrel leaves (gongura),fen...   \n",
       "4     tomato,salt,ginger,red chillies,curry,asafoeti...   \n",
       "...                                                 ...   \n",
       "5933  saffron strands generous,ghee,paneer,rose wate...   \n",
       "5934  salt,gorgonzola cheese cubes,wheat bread crumb...   \n",
       "5935  ghee,milk,saffron strands,sugar,cardamom powde...   \n",
       "5936  salt,tamarind water,mustard seeds,asafoetida (...   \n",
       "5937  black cardamom (badi elaichi),salt,mustard oil...   \n",
       "\n",
       "                                              image-url  Ingredient-count  \n",
       "0     https://www.archanaskitchen.com/images/archana...                10  \n",
       "1     https://www.archanaskitchen.com/images/archana...                12  \n",
       "2     https://www.archanaskitchen.com/images/archana...                12  \n",
       "3     https://www.archanaskitchen.com/images/archana...                15  \n",
       "4     https://www.archanaskitchen.com/images/archana...                12  \n",
       "...                                                 ...               ...  \n",
       "5933  https://www.archanaskitchen.com/images/archana...                 7  \n",
       "5934  https://www.archanaskitchen.com/images/archana...                14  \n",
       "5935  https://www.archanaskitchen.com/images/archana...                 8  \n",
       "5936  https://www.archanaskitchen.com/images/archana...                13  \n",
       "5937  https://www.archanaskitchen.com/images/archana...                13  \n",
       "\n",
       "[5938 rows x 9 columns]"
      ]
     },
     "execution_count": 7,
     "metadata": {},
     "output_type": "execute_result"
    }
   ],
   "source": [
    "df"
   ]
  },
  {
   "cell_type": "code",
   "execution_count": 8,
   "metadata": {},
   "outputs": [],
   "source": [
    "df.to_csv(\"food_receipes.txt\", columns=[\"TranslatedInstructions\"], header=None, index=False)"
   ]
  },
  {
   "cell_type": "code",
   "execution_count": 9,
   "metadata": {},
   "outputs": [
    {
     "name": "stderr",
     "output_type": "stream",
     "text": [
      "Read 1M words\n",
      "Number of words:  4599\n",
      "Number of labels: 0\n",
      "Progress: 100.0% words/sec/thread:  180207 lr:  0.000000 avg.loss:  2.172620 ETA:   0h 0m 0s\n"
     ]
    }
   ],
   "source": [
    "model = fasttext.train_unsupervised(\"food_receipes.txt\") #Skip Gram"
   ]
  },
  {
   "cell_type": "code",
   "execution_count": 10,
   "metadata": {},
   "outputs": [
    {
     "data": {
      "text/plain": [
       "[(0.6619502902030945, 'nawabi'),\n",
       " (0.643112063407898, 'tikka'),\n",
       " (0.6264356970787048, 'bhurji'),\n",
       " (0.5896424651145935, 'satay'),\n",
       " (0.5866579413414001, 'reshmi'),\n",
       " (0.586542010307312, 'hariyali'),\n",
       " (0.5807111263275146, 'tikkas'),\n",
       " (0.5803133845329285, 'tandoori'),\n",
       " (0.5719790458679199, 'shashlik'),\n",
       " (0.5659081935882568, 'gulgule')]"
      ]
     },
     "execution_count": 10,
     "metadata": {},
     "output_type": "execute_result"
    }
   ],
   "source": [
    "model.get_nearest_neighbors(\"paneer\")"
   ]
  },
  {
   "cell_type": "code",
   "execution_count": 11,
   "metadata": {},
   "outputs": [
    {
     "data": {
      "text/plain": [
       "[(0.9493259787559509, 'chutneys'),\n",
       " (0.7355763912200928, 'khajur'),\n",
       " (0.7315621376037598, 'imli'),\n",
       " (0.7005293369293213, 'dhaniya'),\n",
       " (0.6680044531822205, 'kanchipuram'),\n",
       " (0.6673862338066101, 'mavinakayi'),\n",
       " (0.6627646684646606, 'pudina'),\n",
       " (0.652611494064331, 'ratalu'),\n",
       " (0.6498923897743225, 'kumbakonam'),\n",
       " (0.6475304365158081, 'sippe')]"
      ]
     },
     "execution_count": 11,
     "metadata": {},
     "output_type": "execute_result"
    }
   ],
   "source": [
    "model.get_nearest_neighbors(\"chutney\")"
   ]
  },
  {
   "cell_type": "code",
   "execution_count": 12,
   "metadata": {},
   "outputs": [
    {
     "data": {
      "text/plain": [
       "[(0.711921215057373, 'burfi'),\n",
       " (0.707369327545166, 'khoya'),\n",
       " (0.7027214169502258, 'rabri'),\n",
       " (0.6969680190086365, 'sheera'),\n",
       " (0.6619675159454346, 'kesari'),\n",
       " (0.6571903824806213, 'halbai'),\n",
       " (0.6466978192329407, 'badam'),\n",
       " (0.6406588554382324, 'mohan'),\n",
       " (0.6349672079086304, 'rabdi'),\n",
       " (0.6322422623634338, 'gajar')]"
      ]
     },
     "execution_count": 12,
     "metadata": {},
     "output_type": "execute_result"
    }
   ],
   "source": [
    "model.get_nearest_neighbors(\"halwa\")"
   ]
  },
  {
   "cell_type": "code",
   "execution_count": 13,
   "metadata": {},
   "outputs": [
    {
     "data": {
      "text/plain": [
       "[(0.8516421914100647, 'dosai'),\n",
       " (0.8511199951171875, 'dosas'),\n",
       " (0.7932648062705994, \"dosa's\"),\n",
       " (0.7476105093955994, 'uttapam'),\n",
       " (0.7370491623878479, 'uthappam'),\n",
       " (0.7192392349243164, 'dose'),\n",
       " (0.7046496868133545, 'pesarattu'),\n",
       " (0.6984325051307678, 'unniyappam'),\n",
       " (0.6844876408576965, 'appachetty'),\n",
       " (0.6822018623352051, 'idli')]"
      ]
     },
     "execution_count": 13,
     "metadata": {},
     "output_type": "execute_result"
    }
   ],
   "source": [
    "model.get_nearest_neighbors(\"dosa\")"
   ]
  },
  {
   "cell_type": "code",
   "execution_count": 14,
   "metadata": {},
   "outputs": [
    {
     "data": {
      "text/plain": [
       "array([-0.06783736,  1.1235301 ,  0.15305576, -0.17112292, -0.6662242 ,\n",
       "        0.7435256 , -0.27448815,  0.14978424,  0.06498875,  0.22149462,\n",
       "       -0.937346  , -0.15457739, -0.14974406, -0.05410994, -0.04804664,\n",
       "        0.18530174,  0.36307403, -0.02415892,  0.20462067, -0.4298634 ,\n",
       "        0.15399814,  0.4327044 ,  0.09418362,  0.45777902,  0.03864672,\n",
       "        0.11012821,  0.45482203, -0.30347353, -0.7862712 ,  0.654702  ,\n",
       "        0.42663035, -0.05492587,  0.48984915,  0.13514957, -0.28690234,\n",
       "        0.14541645,  0.12338074, -0.13091967, -0.4715709 , -0.1728797 ,\n",
       "        0.23833983,  0.32566717,  1.0102277 , -0.09436198, -0.1493539 ,\n",
       "       -0.39397344, -0.4261681 , -1.046715  ,  0.05946748, -0.13077724,\n",
       "        0.08223639, -0.34172964, -0.1325528 ,  0.46263054,  0.10720462,\n",
       "       -0.12378609,  0.1362676 ,  0.22918947,  0.01850894, -0.06097209,\n",
       "        0.3318848 ,  0.28067046,  0.34111336, -0.2457134 , -0.8677841 ,\n",
       "       -0.3558108 ,  0.01716071,  1.235376  , -0.6291886 , -0.67529935,\n",
       "        0.18221925,  0.45223606, -0.15564689, -0.11008525, -0.36032715,\n",
       "       -0.22244237,  0.15174468,  0.30400354,  0.34899673,  0.1314561 ,\n",
       "        0.19259675,  0.14314191, -0.00646099, -0.9206435 , -0.12451892,\n",
       "        0.02993066,  0.44065264, -0.29533997, -0.4341849 ,  0.14944819,\n",
       "       -0.45637712,  0.1586985 , -0.11751553,  0.7323228 , -0.45454183,\n",
       "        0.10226834, -0.33804843,  0.41299924, -0.35026187,  0.45653674],\n",
       "      dtype=float32)"
      ]
     },
     "execution_count": 14,
     "metadata": {},
     "output_type": "execute_result"
    }
   ],
   "source": [
    "model.get_word_vector(\"dosa\")"
   ]
  },
  {
   "cell_type": "code",
   "execution_count": null,
   "metadata": {},
   "outputs": [],
   "source": []
  }
 ],
 "metadata": {
  "kernelspec": {
   "display_name": "pytorch",
   "language": "python",
   "name": "python3"
  },
  "language_info": {
   "codemirror_mode": {
    "name": "ipython",
    "version": 3
   },
   "file_extension": ".py",
   "mimetype": "text/x-python",
   "name": "python",
   "nbconvert_exporter": "python",
   "pygments_lexer": "ipython3",
   "version": "3.10.9"
  },
  "orig_nbformat": 4
 },
 "nbformat": 4,
 "nbformat_minor": 2
}
